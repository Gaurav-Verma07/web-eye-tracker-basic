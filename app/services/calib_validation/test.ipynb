{
 "cells": [
  {
   "cell_type": "code",
   "execution_count": null,
   "metadata": {},
   "outputs": [],
   "source": [
    "from sklearn.preprocessing import StandardScaler, PolynomialFeatures\n",
    "from sklearn.metrics import mean_absolute_error, r2_score\n",
    "from sklearn.model_selection import train_test_split\n",
    "from sklearn.pipeline import make_pipeline\n",
    "from sklearn.cluster import KMeans\n",
    "from sklearn import linear_model\n",
    "import matplotlib.pyplot as plt\n",
    "import seaborn as sns\n",
    "import pandas as pd\n",
    "import numpy as np"
   ]
  },
  {
   "cell_type": "code",
   "execution_count": null,
   "metadata": {},
   "outputs": [],
   "source": [
    "df = pd.read_csv('./csv/data/_fixed_train_data.csv')\n",
    "df = df.drop(['screen_height', 'screen_width'], axis=1)"
   ]
  },
  {
   "cell_type": "code",
   "execution_count": null,
   "metadata": {},
   "outputs": [],
   "source": [
    "df_test = pd.read_csv('./csv/data/_fixed_train_data.csv')\n",
    "df_test = df_test.drop(['screen_height', 'screen_width'], axis=1)"
   ]
  },
  {
   "cell_type": "code",
   "execution_count": null,
   "metadata": {},
   "outputs": [],
   "source": [
    "df.shape"
   ]
  },
  {
   "cell_type": "code",
   "execution_count": null,
   "metadata": {},
   "outputs": [],
   "source": [
    "df.head()"
   ]
  },
  {
   "cell_type": "code",
   "execution_count": null,
   "metadata": {},
   "outputs": [],
   "source": [
    "df.describe()"
   ]
  },
  {
   "cell_type": "code",
   "execution_count": null,
   "metadata": {},
   "outputs": [],
   "source": [
    "sns.pairplot(df, x_vars=['left_iris_y', 'right_iris_y', 'left_iris_x',\n",
    "             'right_iris_x'], y_vars=['point_x', 'point_y'], kind='reg')\n",
    "plt.show()"
   ]
  },
  {
   "cell_type": "code",
   "execution_count": null,
   "metadata": {},
   "outputs": [],
   "source": [
    "sns.heatmap(df.corr(), annot=True, cmap='RdYlGn', linewidths=0.2)\n",
    "plt.show()"
   ]
  },
  {
   "cell_type": "code",
   "execution_count": null,
   "metadata": {},
   "outputs": [],
   "source": [
    "#plot eyes point\n",
    "plt.scatter(df['left_iris_x'], df['left_iris_y'], color='blue')\n",
    "plt.scatter(df['right_iris_x'], df['right_iris_y'], color='red')\n",
    "plt.scatter(df['point_x'], df['point_y'], color='green')\n",
    "plt.show()"
   ]
  },
  {
   "cell_type": "code",
   "execution_count": null,
   "metadata": {},
   "outputs": [],
   "source": [
    "X_train_x = df[['left_iris_x', 'right_iris_x']]\n",
    "y_train_x = df['point_x']"
   ]
  },
  {
   "cell_type": "code",
   "execution_count": null,
   "metadata": {},
   "outputs": [],
   "source": [
    "sc = StandardScaler()\n",
    "X_train_x = sc.fit_transform(X_train_x)"
   ]
  },
  {
   "cell_type": "code",
   "execution_count": null,
   "metadata": {},
   "outputs": [],
   "source": [
    "X_train_x[:5]"
   ]
  },
  {
   "cell_type": "code",
   "execution_count": null,
   "metadata": {},
   "outputs": [],
   "source": [
    "y_train_x[:5]"
   ]
  },
  {
   "cell_type": "code",
   "execution_count": null,
   "metadata": {},
   "outputs": [],
   "source": [
    "X_test_x = df_test[['left_iris_x', 'right_iris_x']]\n",
    "y_test_x = df_test['point_x']"
   ]
  },
  {
   "cell_type": "code",
   "execution_count": null,
   "metadata": {},
   "outputs": [],
   "source": [
    "sc = StandardScaler()\n",
    "X_test_x = sc.fit_transform(X_test_x)"
   ]
  },
  {
   "cell_type": "code",
   "execution_count": null,
   "metadata": {},
   "outputs": [],
   "source": [
    "model_x = make_pipeline(PolynomialFeatures(2), linear_model.LinearRegression())\n",
    "model_x.fit(X_train_x, y_train_x)\n",
    "y_pred_x = model_x.predict(X_test_x)\n",
    "r2_score(y_test_x, y_pred_x)"
   ]
  },
  {
   "cell_type": "code",
   "execution_count": null,
   "metadata": {},
   "outputs": [],
   "source": [
    "y_pred_x"
   ]
  },
  {
   "cell_type": "code",
   "execution_count": null,
   "metadata": {},
   "outputs": [],
   "source": [
    "sns.regplot(x=y_test_x, y=y_pred_x)\n",
    "plt.show()"
   ]
  },
  {
   "cell_type": "code",
   "execution_count": null,
   "metadata": {},
   "outputs": [],
   "source": [
    "X_train_y = df[['left_iris_y', 'right_iris_y']]\n",
    "y_train_y = df['point_y']"
   ]
  },
  {
   "cell_type": "code",
   "execution_count": null,
   "metadata": {},
   "outputs": [],
   "source": [
    "sc = StandardScaler()\n",
    "X_train_y = sc.fit_transform(X_train_y)"
   ]
  },
  {
   "cell_type": "code",
   "execution_count": null,
   "metadata": {},
   "outputs": [],
   "source": [
    "X_train_y[:5]"
   ]
  },
  {
   "cell_type": "code",
   "execution_count": null,
   "metadata": {},
   "outputs": [],
   "source": [
    "y_train_y[:5]"
   ]
  },
  {
   "cell_type": "code",
   "execution_count": null,
   "metadata": {},
   "outputs": [],
   "source": [
    "X_test_y = df_test[['left_iris_y', 'right_iris_y']]\n",
    "y_test_y = df_test['point_y']"
   ]
  },
  {
   "cell_type": "code",
   "execution_count": null,
   "metadata": {},
   "outputs": [],
   "source": [
    "sc = StandardScaler()\n",
    "X_test_y = sc.fit_transform(X_test_y)"
   ]
  },
  {
   "cell_type": "code",
   "execution_count": null,
   "metadata": {},
   "outputs": [],
   "source": [
    "model = make_pipeline(PolynomialFeatures(degree=2), linear_model.LinearRegression())\n",
    "model.fit(X_train_y, y_train_y)\n",
    "y_pred_y = model.predict(X_test_y)\n",
    "r2_score(y_test_y, y_pred_y)"
   ]
  },
  {
   "cell_type": "code",
   "execution_count": null,
   "metadata": {},
   "outputs": [],
   "source": [
    "sns.regplot(x=y_test_y, y=y_pred_y)\n",
    "plt.show()"
   ]
  },
  {
   "cell_type": "code",
   "execution_count": null,
   "metadata": {},
   "outputs": [],
   "source": [
    "data = {'True X': y_test_x, 'Predicted X': y_pred_x,\n",
    "        'True Y': y_test_y, 'Predicted Y': y_pred_y}\n",
    "\n",
    "sns.scatterplot(x='True X', y='True Y', data=data,\n",
    "                label='True Values', alpha=0.7)\n",
    "sns.scatterplot(x='Predicted X', y='Predicted Y', data=data,\n",
    "                label='Predicted Values', alpha=0.7)\n",
    "\n",
    "plt.title('True and Predicted Points for X and Y')\n",
    "plt.xlabel('X Values')\n",
    "plt.ylabel('Y Values')\n",
    "plt.legend()\n",
    "\n",
    "plt.show()"
   ]
  },
  {
   "cell_type": "code",
   "execution_count": null,
   "metadata": {},
   "outputs": [],
   "source": [
    "df_data = pd.DataFrame(data)\n",
    "df_data['True XY'] = list(zip(df_data['True X'], df_data['True Y']))"
   ]
  },
  {
   "cell_type": "code",
   "execution_count": null,
   "metadata": {},
   "outputs": [],
   "source": [
    "df_data.head()"
   ]
  },
  {
   "cell_type": "code",
   "execution_count": null,
   "metadata": {},
   "outputs": [],
   "source": [
    "df_data.shape"
   ]
  },
  {
   "cell_type": "code",
   "execution_count": null,
   "metadata": {},
   "outputs": [],
   "source": [
    "df_data = df_data[(df_data['Predicted X'] >= 0) &\n",
    "                  (df_data['Predicted Y'] >= 0)]\n",
    "df_data = df_data[(abs(df_data['Predicted X'] - df_data['True X']) <= 100)\n",
    "                  & (abs(df_data['Predicted Y'] - df_data['True Y']) <= 100)]"
   ]
  },
  {
   "cell_type": "code",
   "execution_count": null,
   "metadata": {},
   "outputs": [],
   "source": [
    "df_data.shape"
   ]
  },
  {
   "cell_type": "code",
   "execution_count": null,
   "metadata": {},
   "outputs": [],
   "source": [
    "# Precision is calculated via the Root Mean Square from the\n",
    "# successive data points [in degrees of visual angle θi between\n",
    "# successive (x1,y1) to (xi+1, yi+1) samples], both for each eye\n",
    "# individually and as a mean from the two\n",
    "\n",
    "# Another option to describe the variation in the data is to\n",
    "# measure the standard deviation of the data set, equivalent\n",
    "# to the RMS normalized by the mean\n",
    "\n",
    "def average_dist_from_truth(group):\n",
    "    true_x = group['True X']\n",
    "    predicted_x = group['Predicted X']\n",
    "    true_y = group['True Y']\n",
    "    predicted_y = group['Predicted Y']\n",
    "    distance = np.sqrt((predicted_x - true_x) ** 2 + (predicted_y - true_y) ** 2)\n",
    "\n",
    "    average_distance = np.mean(distance)\n",
    "    return average_distance\n",
    "\n",
    "\n",
    "def average_dist_from_center(group):\n",
    "    predicted_x = group['Predicted X']\n",
    "    predicted_y = group['Predicted Y']\n",
    "    center_x =  np.mean(predicted_x)\n",
    "    center_y =  np.mean(predicted_y)\n",
    "    distances_to_center = np.sqrt((predicted_x - center_x) ** 2 + (predicted_y - center_y) ** 2)\n",
    "    print('--------')\n",
    "    avg_distance = np.mean(distances_to_center)\n",
    "    print('average precision', avg_distance)\n",
    "\n",
    "    return np.sqrt(np.sum(np.square([group['Predicted Y'], group['True Y']])))\n",
    "\n",
    "\n",
    "accuracy = df_data.groupby('True XY').apply(average_dist_from_truth)\n",
    "precision = df_data.groupby('True XY').apply(average_dist_from_center)\n",
    "\n",
    "precision_xy = (accuracy + precision) / 2\n",
    "precision_xy = precision_xy / np.mean(precision_xy)\n",
    "print('accuracy', accuracy)\n",
    "print('precision', precision)"
   ]
  },
  {
   "cell_type": "code",
   "execution_count": null,
   "metadata": {},
   "outputs": [],
   "source": [
    "data = {}\n",
    "\n",
    "for index, row in df_data.iterrows():\n",
    "\n",
    "    outer_key = str(row['True X'])\n",
    "    inner_key = str(row['True Y'])\n",
    "\n",
    "    if outer_key not in data:\n",
    "        data[outer_key] = {}\n",
    "\n",
    "    data[outer_key][inner_key] = {\n",
    "        'predicted_x': df_data[(df_data['True X'] == row['True X']) & (df_data['True Y'] == row['True Y'])]['Predicted X'].values.tolist(),\n",
    "        'predicted_y': df_data[(df_data['True X'] == row['True X']) & (df_data['True Y'] == row['True Y'])]['Predicted Y'].values.tolist(),\n",
    "        'PrecisionSD': precision_xy[(row['True X'], row['True Y'])]\n",
    "    }"
   ]
  },
  {
   "cell_type": "code",
   "execution_count": null,
   "metadata": {},
   "outputs": [],
   "source": [
    "data = np.array([y_pred_x, y_pred_y]).T"
   ]
  },
  {
   "cell_type": "code",
   "execution_count": null,
   "metadata": {},
   "outputs": [],
   "source": [
    "data.shape"
   ]
  },
  {
   "cell_type": "code",
   "execution_count": null,
   "metadata": {},
   "outputs": [],
   "source": [
    "model = KMeans(n_clusters=5, n_init='auto', init='k-means++')\n",
    "y_kmeans = model.fit_predict(data)"
   ]
  },
  {
   "cell_type": "code",
   "execution_count": null,
   "metadata": {},
   "outputs": [],
   "source": [
    "plt.figure(figsize=(10, 6))\n",
    "\n",
    "plt.scatter(data[y_kmeans == 0, 0], data[y_kmeans == 0, 1],\n",
    "            s=90, c='red', label='Cluster 1')\n",
    "plt.scatter(data[y_kmeans == 1, 0], data[y_kmeans == 1, 1],\n",
    "            s=90, c='blue', label='Cluster 2')\n",
    "plt.scatter(data[y_kmeans == 2, 0], data[y_kmeans == 2, 1],\n",
    "            s=90, c='green', label='Cluster 3')\n",
    "plt.scatter(data[y_kmeans == 3, 0], data[y_kmeans == 3, 1],\n",
    "            s=90, c='cyan', label='Cluster 4')\n",
    "plt.scatter(data[y_kmeans == 4, 0], data[y_kmeans == 4, 1],\n",
    "            s=90, c='magenta', label='Cluster 5')\n",
    "plt.scatter(model.cluster_centers_[:, 0], model.cluster_centers_[\n",
    "            :, 1], s=120, c='yellow', label='Centroids')\n",
    "\n",
    "plt.title('Clusters')\n",
    "\n",
    "plt.xlabel('F1')\n",
    "plt.ylabel('F2')\n",
    "\n",
    "plt.legend()\n",
    "\n",
    "plt.show()"
   ]
  },
  {
   "cell_type": "markdown",
   "metadata": {},
   "source": [
    "### -------- teste --------"
   ]
  },
  {
   "cell_type": "code",
   "execution_count": null,
   "metadata": {},
   "outputs": [],
   "source": [
    "def plot(ax, y_test_x, y_pred_x, y_test_y, y_pred_y, title=None):\n",
    "\n",
    "    y_test_x = np.array(y_test_x)\n",
    "    y_test_y = np.array(y_test_y)\n",
    "\n",
    "    true_points = [(y_test_x[i], y_test_y[i]) for i in range(len(y_test_x))]\n",
    "\n",
    "    error_range = 0.05\n",
    "\n",
    "    data = {'True X': y_test_x, 'Predicted X': y_pred_x,\n",
    "            'True Y': y_test_y, 'Predicted Y': y_pred_y}\n",
    "\n",
    "    sns.scatterplot(x='True X', y='True Y', data=data,\n",
    "                    label='True Values', alpha=0.7, ax=ax, color='red')\n",
    "    sns.scatterplot(x='Predicted X', y='Predicted Y', data=data,\n",
    "                    label='Predicted Values', alpha=0.7, ax=ax, color='green')\n",
    "\n",
    "    circle_radius = error_range * (max(y_test_x) - min(y_test_x)\n",
    "                                   + max(y_test_y) - min(y_test_y)) / 2\n",
    "\n",
    "    for true_x, true_y in true_points:\n",
    "\n",
    "        x_within_range = [y_pred_x[j] for j in range(len(y_test_x)) if abs(\n",
    "            y_test_x[j] - true_x) <= error_range]\n",
    "        y_within_range = [y_pred_y[j] for j in range(len(y_test_y)) if abs(\n",
    "            y_test_y[j] - true_y) <= error_range]\n",
    "\n",
    "        if len(x_within_range) > 1 and len(y_within_range) > 1:\n",
    "\n",
    "            combined_predictions = x_within_range + y_within_range\n",
    "            combined_true = [true_x] * len(x_within_range) + \\\n",
    "                [true_y] * len(y_within_range)\n",
    "            #true_values = [true_x] * len(x_within_range) + \\\n",
    "            #    [true_y] * len(y_within_range)\n",
    "\n",
    "            r2_combined = r2_score(combined_true, combined_predictions)\n",
    "            mae_combined = mean_absolute_error(\n",
    "                combined_true, combined_predictions)\n",
    "\n",
    "            circle = plt.Circle((true_x, true_y), circle_radius,\n",
    "                                color='yellow', fill=False)\n",
    "            ax.add_patch(circle)\n",
    "\n",
    "            ax.text(true_x + 0.1, true_y + 0.1, f'R2={r2_combined:.2f}\\nMAE={mae_combined:.2f}',\n",
    "                    fontsize=8, color='blue')\n",
    "\n",
    "    title = title if title else 'True and Predicted Points for X and Y'\n",
    "    ax.set_title(title)\n",
    "    ax.legend()"
   ]
  },
  {
   "cell_type": "code",
   "execution_count": null,
   "metadata": {},
   "outputs": [],
   "source": [
    "def analysis(df, ax=None, title=None):\n",
    "\n",
    "    # x\n",
    "    X_x = df[['left_iris_x', 'right_iris_x']]\n",
    "    X_y = df['point_x']\n",
    "\n",
    "    sc = StandardScaler()\n",
    "    X_x = sc.fit_transform(X_x)\n",
    "\n",
    "    X_train_x, X_test_x, y_train_x, y_test_x = train_test_split(\n",
    "        X_x, X_y, test_size=0.2, random_state=42)\n",
    "\n",
    "    model = linear_model.LinearRegression()\n",
    "    model.fit(X_train_x, y_train_x)\n",
    "    y_pred_x = model.predict(X_test_x)\n",
    "    r2_score(y_test_x, y_pred_x)\n",
    "\n",
    "    # y\n",
    "    X_y = df[['left_iris_y', 'right_iris_y']]\n",
    "    y_y = df['point_y']\n",
    "\n",
    "    sc = StandardScaler()\n",
    "    X_y = sc.fit_transform(X_y)\n",
    "\n",
    "    X_train_y, X_test_y, y_train_y, y_test_y = train_test_split(\n",
    "        X_y, y_y, test_size=0.2, random_state=42)\n",
    "\n",
    "    model = linear_model.LinearRegression()\n",
    "    model.fit(X_train_y, y_train_y)\n",
    "    y_pred_y = model.predict(X_test_y)\n",
    "    r2_score(y_test_y, y_pred_y)\n",
    "\n",
    "    plot(ax, y_test_x, y_pred_x, y_test_y, y_pred_y, title)"
   ]
  },
  {
   "cell_type": "code",
   "execution_count": null,
   "metadata": {},
   "outputs": [],
   "source": [
    "df = pd.read_csv('./csv/data/_fixed_train_data.csv')\n",
    "df = df.drop(['screen_height', 'screen_width'], axis=1)\n",
    "\n",
    "df_list = [df]\n",
    "\n",
    "# num_rows = len(df_list) // 2 + len(df_list) % 2\n",
    "# num_cols = min(2, len(df_list))\n",
    "\n",
    "num_rows = len(df_list)\n",
    "num_cols = 1\n",
    "\n",
    "fig_height = 5 * num_rows\n",
    "fig, axes = plt.subplots(\n",
    "    num_rows, num_cols, figsize=(10, fig_height), squeeze=False)\n",
    "\n",
    "for i, df in enumerate(df_list):\n",
    "\n",
    "    # row_idx = i // num_cols\n",
    "    # col_idx = i % num_cols\n",
    "\n",
    "    row_idx = i\n",
    "    col_idx = 0\n",
    "\n",
    "    ax = axes[row_idx, col_idx]\n",
    "    analysis(df, ax)\n",
    "\n",
    "plt.tight_layout()\n",
    "plt.show()"
   ]
  }
 ],
 "metadata": {
  "kernelspec": {
   "display_name": "venv",
   "language": "python",
   "name": "python3"
  },
  "language_info": {
   "codemirror_mode": {
    "name": "ipython",
    "version": 3
   },
   "file_extension": ".py",
   "mimetype": "text/x-python",
   "name": "python",
   "nbconvert_exporter": "python",
   "pygments_lexer": "ipython3",
   "version": "3.11.6"
  }
 },
 "nbformat": 4,
 "nbformat_minor": 2
}
